{
 "cells": [
  {
   "cell_type": "markdown",
   "id": "87d4b868",
   "metadata": {},
   "source": [
    "# Initilization of LLM model\n",
    "\n",
    "This will be an initial test of using (in this case Google's gemini model) as the baseline model for the RAG."
   ]
  },
  {
   "cell_type": "markdown",
   "id": "0ffdfac1",
   "metadata": {},
   "source": [
    "## Loading / Splitting Data\n",
    "\n",
    "This will be done with DirectoryLoader from lanchain-community.document-loaders"
   ]
  },
  {
   "cell_type": "code",
   "execution_count": 3,
   "id": "892d8f5e",
   "metadata": {},
   "outputs": [
    {
     "name": "stdout",
     "output_type": "stream",
     "text": [
      "Number of documents loaded: 57353\n",
      "\n",
      "Example Document:\n",
      "Page Content: [1][2]...\n",
      "Metadata: {'source': 'https://splatoonwiki.org/wiki/Cometz_Octobrush', 'title': 'Cometz Octobrush'}\n"
     ]
    }
   ],
   "source": [
    "import json\n",
    "import os\n",
    "from typing import List\n",
    "from langchain.docstore.document import Document\n",
    "from langchain_community.document_loaders import DirectoryLoader\n",
    "from langchain_community.document_loaders.base import BaseLoader\n",
    "from pathlib import Path\n",
    "\n",
    "class JSONLoader(BaseLoader):\n",
    "    \"\"\"\n",
    "    Loads a JSON file, extracts the title and paragraphs, and creates\n",
    "    a list of LangChain Document objects.\n",
    "    Each Document object will contain a single paragraph and the\n",
    "    original page title as metadata.\n",
    "    \"\"\"\n",
    "    def __init__(self, file_path: str):\n",
    "        self.file_path = file_path\n",
    "\n",
    "    def load(self) -> List[Document]:\n",
    "        with Path(self.file_path).open(encoding='utf-8') as f:\n",
    "            data = json.load(f)\n",
    "\n",
    "        title = data.get(\"title\", \"No Title\")\n",
    "        paragraphs = data.get(\"paragraphs\", [])\n",
    "        url = data.get(\"url\", \"No Url\")\n",
    "\n",
    "        documents = []\n",
    "        for paragraph in paragraphs:\n",
    "            documents.append(Document(\n",
    "                page_content=paragraph,\n",
    "                metadata={\"source\": url, \"title\": title}\n",
    "            ))\n",
    "        return documents\n",
    "\n",
    "loader = DirectoryLoader(\n",
    "    '../data', glob=\"**/*.json\", loader_cls=JSONLoader\n",
    ")\n",
    "\n",
    "documents = loader.load()\n",
    "\n",
    "print(f\"Number of documents loaded: {len(documents)}\")\n",
    "if documents:\n",
    "    print(\"\\nExample Document:\")\n",
    "    print(f\"Page Content: {documents[0].page_content[:100]}...\")\n",
    "    print(f\"Metadata: {documents[0].metadata}\")"
   ]
  },
  {
   "cell_type": "code",
   "execution_count": null,
   "id": "9550dbb5",
   "metadata": {},
   "outputs": [],
   "source": []
  }
 ],
 "metadata": {
  "kernelspec": {
   "display_name": "inkpedia-rag",
   "language": "python",
   "name": "python3"
  },
  "language_info": {
   "codemirror_mode": {
    "name": "ipython",
    "version": 3
   },
   "file_extension": ".py",
   "mimetype": "text/x-python",
   "name": "python",
   "nbconvert_exporter": "python",
   "pygments_lexer": "ipython3",
   "version": "3.12.11"
  }
 },
 "nbformat": 4,
 "nbformat_minor": 5
}
